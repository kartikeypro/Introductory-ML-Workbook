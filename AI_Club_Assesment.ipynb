{
 "cells": [
  {
   "cell_type": "code",
   "execution_count": 2,
   "metadata": {},
   "outputs": [],
   "source": [
    "import pandas as pd\n",
    "import numpy as np\n",
    "import matplotlib.pyplot as plt\n",
    "%matplotlib inline"
   ]
  },
  {
   "cell_type": "code",
   "execution_count": 5,
   "metadata": {},
   "outputs": [],
   "source": [
    "data=pd.read_csv(\"./Copy of ai_club_evaluation.csv\")"
   ]
  },
  {
   "cell_type": "code",
   "execution_count": 6,
   "metadata": {},
   "outputs": [
    {
     "data": {
      "text/html": [
       "<div>\n",
       "<style scoped>\n",
       "    .dataframe tbody tr th:only-of-type {\n",
       "        vertical-align: middle;\n",
       "    }\n",
       "\n",
       "    .dataframe tbody tr th {\n",
       "        vertical-align: top;\n",
       "    }\n",
       "\n",
       "    .dataframe thead th {\n",
       "        text-align: right;\n",
       "    }\n",
       "</style>\n",
       "<table border=\"1\" class=\"dataframe\">\n",
       "  <thead>\n",
       "    <tr style=\"text-align: right;\">\n",
       "      <th></th>\n",
       "      <th>x1</th>\n",
       "      <th>x2</th>\n",
       "      <th>x4</th>\n",
       "      <th>x5</th>\n",
       "      <th>x7</th>\n",
       "      <th>x8</th>\n",
       "      <th>x10</th>\n",
       "      <th>x11</th>\n",
       "      <th>x12</th>\n",
       "      <th>x13</th>\n",
       "      <th>y</th>\n",
       "    </tr>\n",
       "  </thead>\n",
       "  <tbody>\n",
       "    <tr>\n",
       "      <th>0</th>\n",
       "      <td>59</td>\n",
       "      <td>1</td>\n",
       "      <td>135</td>\n",
       "      <td>234</td>\n",
       "      <td>0</td>\n",
       "      <td>161</td>\n",
       "      <td>0.5</td>\n",
       "      <td>2</td>\n",
       "      <td>0</td>\n",
       "      <td>3</td>\n",
       "      <td>0</td>\n",
       "    </tr>\n",
       "    <tr>\n",
       "      <th>1</th>\n",
       "      <td>59</td>\n",
       "      <td>1</td>\n",
       "      <td>126</td>\n",
       "      <td>218</td>\n",
       "      <td>0</td>\n",
       "      <td>134</td>\n",
       "      <td>2.2</td>\n",
       "      <td>2</td>\n",
       "      <td>1</td>\n",
       "      <td>1</td>\n",
       "      <td>1</td>\n",
       "    </tr>\n",
       "    <tr>\n",
       "      <th>2</th>\n",
       "      <td>60</td>\n",
       "      <td>0</td>\n",
       "      <td>102</td>\n",
       "      <td>318</td>\n",
       "      <td>0</td>\n",
       "      <td>160</td>\n",
       "      <td>0.0</td>\n",
       "      <td>1</td>\n",
       "      <td>1</td>\n",
       "      <td>2</td>\n",
       "      <td>0</td>\n",
       "    </tr>\n",
       "    <tr>\n",
       "      <th>3</th>\n",
       "      <td>52</td>\n",
       "      <td>1</td>\n",
       "      <td>125</td>\n",
       "      <td>212</td>\n",
       "      <td>0</td>\n",
       "      <td>168</td>\n",
       "      <td>1.0</td>\n",
       "      <td>1</td>\n",
       "      <td>2</td>\n",
       "      <td>3</td>\n",
       "      <td>1</td>\n",
       "    </tr>\n",
       "    <tr>\n",
       "      <th>4</th>\n",
       "      <td>58</td>\n",
       "      <td>1</td>\n",
       "      <td>112</td>\n",
       "      <td>230</td>\n",
       "      <td>2</td>\n",
       "      <td>165</td>\n",
       "      <td>2.5</td>\n",
       "      <td>2</td>\n",
       "      <td>1</td>\n",
       "      <td>3</td>\n",
       "      <td>1</td>\n",
       "    </tr>\n",
       "  </tbody>\n",
       "</table>\n",
       "</div>"
      ],
      "text/plain": [
       "   x1  x2   x4   x5  x7   x8  x10  x11  x12  x13  y\n",
       "0  59   1  135  234   0  161  0.5    2    0    3  0\n",
       "1  59   1  126  218   0  134  2.2    2    1    1  1\n",
       "2  60   0  102  318   0  160  0.0    1    1    2  0\n",
       "3  52   1  125  212   0  168  1.0    1    2    3  1\n",
       "4  58   1  112  230   2  165  2.5    2    1    3  1"
      ]
     },
     "execution_count": 6,
     "metadata": {},
     "output_type": "execute_result"
    }
   ],
   "source": [
    "data.head()"
   ]
  },
  {
   "cell_type": "code",
   "execution_count": 7,
   "metadata": {},
   "outputs": [
    {
     "name": "stdout",
     "output_type": "stream",
     "text": [
      "<class 'pandas.core.frame.DataFrame'>\n",
      "RangeIndex: 280 entries, 0 to 279\n",
      "Data columns (total 11 columns):\n",
      " #   Column  Non-Null Count  Dtype  \n",
      "---  ------  --------------  -----  \n",
      " 0   x1      280 non-null    int64  \n",
      " 1   x2      280 non-null    int64  \n",
      " 2   x4      280 non-null    int64  \n",
      " 3   x5      280 non-null    int64  \n",
      " 4   x7      280 non-null    int64  \n",
      " 5   x8      280 non-null    int64  \n",
      " 6   x10     280 non-null    float64\n",
      " 7   x11     280 non-null    int64  \n",
      " 8   x12     280 non-null    int64  \n",
      " 9   x13     280 non-null    int64  \n",
      " 10  y       280 non-null    int64  \n",
      "dtypes: float64(1), int64(10)\n",
      "memory usage: 24.2 KB\n"
     ]
    }
   ],
   "source": [
    "data.info() #The dataset contains int and float variable and no null values."
   ]
  },
  {
   "cell_type": "code",
   "execution_count": 9,
   "metadata": {},
   "outputs": [
    {
     "data": {
      "text/html": [
       "<div>\n",
       "<style scoped>\n",
       "    .dataframe tbody tr th:only-of-type {\n",
       "        vertical-align: middle;\n",
       "    }\n",
       "\n",
       "    .dataframe tbody tr th {\n",
       "        vertical-align: top;\n",
       "    }\n",
       "\n",
       "    .dataframe thead th {\n",
       "        text-align: right;\n",
       "    }\n",
       "</style>\n",
       "<table border=\"1\" class=\"dataframe\">\n",
       "  <thead>\n",
       "    <tr style=\"text-align: right;\">\n",
       "      <th></th>\n",
       "      <th>x1</th>\n",
       "      <th>x2</th>\n",
       "      <th>x4</th>\n",
       "      <th>x5</th>\n",
       "      <th>x7</th>\n",
       "      <th>x8</th>\n",
       "      <th>x10</th>\n",
       "      <th>x11</th>\n",
       "      <th>x12</th>\n",
       "      <th>x13</th>\n",
       "      <th>y</th>\n",
       "    </tr>\n",
       "  </thead>\n",
       "  <tbody>\n",
       "    <tr>\n",
       "      <th>count</th>\n",
       "      <td>280.000000</td>\n",
       "      <td>280.000000</td>\n",
       "      <td>280.000000</td>\n",
       "      <td>280.000000</td>\n",
       "      <td>280.000000</td>\n",
       "      <td>280.000000</td>\n",
       "      <td>280.000000</td>\n",
       "      <td>280.000000</td>\n",
       "      <td>280.000000</td>\n",
       "      <td>280.000000</td>\n",
       "      <td>280.000000</td>\n",
       "    </tr>\n",
       "    <tr>\n",
       "      <th>mean</th>\n",
       "      <td>54.467857</td>\n",
       "      <td>0.685714</td>\n",
       "      <td>131.785714</td>\n",
       "      <td>247.760714</td>\n",
       "      <td>1.007143</td>\n",
       "      <td>148.942857</td>\n",
       "      <td>1.078571</td>\n",
       "      <td>1.614286</td>\n",
       "      <td>0.678571</td>\n",
       "      <td>2.332143</td>\n",
       "      <td>0.475000</td>\n",
       "    </tr>\n",
       "    <tr>\n",
       "      <th>std</th>\n",
       "      <td>9.000938</td>\n",
       "      <td>0.465062</td>\n",
       "      <td>17.962440</td>\n",
       "      <td>51.941619</td>\n",
       "      <td>0.994583</td>\n",
       "      <td>23.001098</td>\n",
       "      <td>1.177372</td>\n",
       "      <td>0.617379</td>\n",
       "      <td>0.941042</td>\n",
       "      <td>0.593002</td>\n",
       "      <td>0.500269</td>\n",
       "    </tr>\n",
       "    <tr>\n",
       "      <th>min</th>\n",
       "      <td>29.000000</td>\n",
       "      <td>0.000000</td>\n",
       "      <td>94.000000</td>\n",
       "      <td>126.000000</td>\n",
       "      <td>0.000000</td>\n",
       "      <td>71.000000</td>\n",
       "      <td>0.000000</td>\n",
       "      <td>1.000000</td>\n",
       "      <td>0.000000</td>\n",
       "      <td>1.000000</td>\n",
       "      <td>0.000000</td>\n",
       "    </tr>\n",
       "    <tr>\n",
       "      <th>25%</th>\n",
       "      <td>47.750000</td>\n",
       "      <td>0.000000</td>\n",
       "      <td>120.000000</td>\n",
       "      <td>211.750000</td>\n",
       "      <td>0.000000</td>\n",
       "      <td>132.000000</td>\n",
       "      <td>0.000000</td>\n",
       "      <td>1.000000</td>\n",
       "      <td>0.000000</td>\n",
       "      <td>2.000000</td>\n",
       "      <td>0.000000</td>\n",
       "    </tr>\n",
       "    <tr>\n",
       "      <th>50%</th>\n",
       "      <td>56.000000</td>\n",
       "      <td>1.000000</td>\n",
       "      <td>130.000000</td>\n",
       "      <td>243.000000</td>\n",
       "      <td>1.000000</td>\n",
       "      <td>152.000000</td>\n",
       "      <td>0.800000</td>\n",
       "      <td>2.000000</td>\n",
       "      <td>0.000000</td>\n",
       "      <td>2.000000</td>\n",
       "      <td>0.000000</td>\n",
       "    </tr>\n",
       "    <tr>\n",
       "      <th>75%</th>\n",
       "      <td>61.000000</td>\n",
       "      <td>1.000000</td>\n",
       "      <td>140.000000</td>\n",
       "      <td>275.000000</td>\n",
       "      <td>2.000000</td>\n",
       "      <td>165.000000</td>\n",
       "      <td>1.800000</td>\n",
       "      <td>2.000000</td>\n",
       "      <td>1.000000</td>\n",
       "      <td>3.000000</td>\n",
       "      <td>1.000000</td>\n",
       "    </tr>\n",
       "    <tr>\n",
       "      <th>max</th>\n",
       "      <td>77.000000</td>\n",
       "      <td>1.000000</td>\n",
       "      <td>200.000000</td>\n",
       "      <td>564.000000</td>\n",
       "      <td>2.000000</td>\n",
       "      <td>202.000000</td>\n",
       "      <td>6.200000</td>\n",
       "      <td>3.000000</td>\n",
       "      <td>3.000000</td>\n",
       "      <td>3.000000</td>\n",
       "      <td>1.000000</td>\n",
       "    </tr>\n",
       "  </tbody>\n",
       "</table>\n",
       "</div>"
      ],
      "text/plain": [
       "               x1          x2          x4          x5          x7          x8  \\\n",
       "count  280.000000  280.000000  280.000000  280.000000  280.000000  280.000000   \n",
       "mean    54.467857    0.685714  131.785714  247.760714    1.007143  148.942857   \n",
       "std      9.000938    0.465062   17.962440   51.941619    0.994583   23.001098   \n",
       "min     29.000000    0.000000   94.000000  126.000000    0.000000   71.000000   \n",
       "25%     47.750000    0.000000  120.000000  211.750000    0.000000  132.000000   \n",
       "50%     56.000000    1.000000  130.000000  243.000000    1.000000  152.000000   \n",
       "75%     61.000000    1.000000  140.000000  275.000000    2.000000  165.000000   \n",
       "max     77.000000    1.000000  200.000000  564.000000    2.000000  202.000000   \n",
       "\n",
       "              x10         x11         x12         x13           y  \n",
       "count  280.000000  280.000000  280.000000  280.000000  280.000000  \n",
       "mean     1.078571    1.614286    0.678571    2.332143    0.475000  \n",
       "std      1.177372    0.617379    0.941042    0.593002    0.500269  \n",
       "min      0.000000    1.000000    0.000000    1.000000    0.000000  \n",
       "25%      0.000000    1.000000    0.000000    2.000000    0.000000  \n",
       "50%      0.800000    2.000000    0.000000    2.000000    0.000000  \n",
       "75%      1.800000    2.000000    1.000000    3.000000    1.000000  \n",
       "max      6.200000    3.000000    3.000000    3.000000    1.000000  "
      ]
     },
     "execution_count": 9,
     "metadata": {},
     "output_type": "execute_result"
    }
   ],
   "source": [
    "data.describe() #Looking at y mean it seems that data is stable. We'll confirm it in the subsequent cell."
   ]
  },
  {
   "cell_type": "code",
   "execution_count": 10,
   "metadata": {},
   "outputs": [
    {
     "data": {
      "text/plain": [
       "(280, 11)"
      ]
     },
     "execution_count": 10,
     "metadata": {},
     "output_type": "execute_result"
    }
   ],
   "source": [
    "data.shape"
   ]
  },
  {
   "cell_type": "code",
   "execution_count": 13,
   "metadata": {},
   "outputs": [
    {
     "data": {
      "text/plain": [
       "0    147\n",
       "1    133\n",
       "Name: y, dtype: int64"
      ]
     },
     "execution_count": 13,
     "metadata": {},
     "output_type": "execute_result"
    }
   ],
   "source": [
    "data.y.value_counts() #Yes the data is pretty stable so we can just look at accuracy to measure the performance of our models"
   ]
  },
  {
   "cell_type": "code",
   "execution_count": 26,
   "metadata": {},
   "outputs": [
    {
     "data": {
      "image/png": "[encoded data removed]",
      "text/plain": [
       "<Figure size 1080x720 with 2 Axes>"
      ]
     },
     "metadata": {
      "needs_background": "light"
     },
     "output_type": "display_data"
    }
   ],
   "source": [
    "#Now we are going to variables which are highly correlated either positively or negatively\n",
    "cor=data.corr()\n",
    "import seaborn as sns\n",
    "plt.figure(figsize=(15,10))\n",
    "sns.heatmap(cor,vmin=-1)\n",
    "#We can see that x11 and x10 are highly correated so we can remove one of them\n",
    "data.drop(columns={\"x11\"},inplace=True)"
   ]
  },
  {
   "cell_type": "code",
   "execution_count": 27,
   "metadata": {},
   "outputs": [],
   "source": [
    "# We got lots of variable with us. This occupies lot of space. We can either delte them or reduce their dimensions\n",
    "#using dimensionality reduction algorithms like PCA, PGA, Autoencoders. I am using PCA here.\n",
    "# One dosen't need to reduce the data here as it's too small but I am still doing it.\n",
    "from sklearn.decomposition import PCA\n",
    "from sklearn.model_selection import train_test_split\n",
    "feed=data.iloc[:,:-1]\n",
    "target=data.iloc[:,-1] #We have to seprate the target variable before reducing the dimension"
   ]
  },
  {
   "cell_type": "code",
   "execution_count": 30,
   "metadata": {},
   "outputs": [],
   "source": [
    "reducer=PCA(n_components=4) # I am comofortable working with 4 variables. You can coose whatever you want.\n",
    "# The more variables you the better it captures the underlying meaning of the data but it comes with storage tradeoff\n",
    "reducer.fit(feed)\n",
    "feed=reducer.transform(feed) # The obtained result is an array"
   ]
  },
  {
   "cell_type": "code",
   "execution_count": 36,
   "metadata": {},
   "outputs": [
    {
     "data": {
      "text/html": [
       "<div>\n",
       "<style scoped>\n",
       "    .dataframe tbody tr th:only-of-type {\n",
       "        vertical-align: middle;\n",
       "    }\n",
       "\n",
       "    .dataframe tbody tr th {\n",
       "        vertical-align: top;\n",
       "    }\n",
       "\n",
       "    .dataframe thead th {\n",
       "        text-align: right;\n",
       "    }\n",
       "</style>\n",
       "<table border=\"1\" class=\"dataframe\">\n",
       "  <thead>\n",
       "    <tr style=\"text-align: right;\">\n",
       "      <th></th>\n",
       "      <th>0</th>\n",
       "      <th>1</th>\n",
       "      <th>2</th>\n",
       "      <th>3</th>\n",
       "    </tr>\n",
       "  </thead>\n",
       "  <tbody>\n",
       "    <tr>\n",
       "      <th>0</th>\n",
       "      <td>-13.310856</td>\n",
       "      <td>-10.560058</td>\n",
       "      <td>6.068956</td>\n",
       "      <td>6.325324</td>\n",
       "    </tr>\n",
       "    <tr>\n",
       "      <th>1</th>\n",
       "      <td>-29.993333</td>\n",
       "      <td>14.793655</td>\n",
       "      <td>-5.694298</td>\n",
       "      <td>3.567919</td>\n",
       "    </tr>\n",
       "    <tr>\n",
       "      <th>2</th>\n",
       "      <td>69.019620</td>\n",
       "      <td>-13.347102</td>\n",
       "      <td>-30.690110</td>\n",
       "      <td>9.529073</td>\n",
       "    </tr>\n",
       "    <tr>\n",
       "      <th>3</th>\n",
       "      <td>-35.897155</td>\n",
       "      <td>-19.783801</td>\n",
       "      <td>-2.448782</td>\n",
       "      <td>2.756785</td>\n",
       "    </tr>\n",
       "    <tr>\n",
       "      <th>4</th>\n",
       "      <td>-18.365313</td>\n",
       "      <td>-17.267780</td>\n",
       "      <td>-15.831129</td>\n",
       "      <td>9.443212</td>\n",
       "    </tr>\n",
       "  </tbody>\n",
       "</table>\n",
       "</div>"
      ],
      "text/plain": [
       "           0          1          2         3\n",
       "0 -13.310856 -10.560058   6.068956  6.325324\n",
       "1 -29.993333  14.793655  -5.694298  3.567919\n",
       "2  69.019620 -13.347102 -30.690110  9.529073\n",
       "3 -35.897155 -19.783801  -2.448782  2.756785\n",
       "4 -18.365313 -17.267780 -15.831129  9.443212"
      ]
     },
     "execution_count": 36,
     "metadata": {},
     "output_type": "execute_result"
    }
   ],
   "source": [
    "final_feed=pd.DataFrame(feed)\n",
    "final_feed.head() #We finally got our data. Now we can start fitting the models on it and picke the best one out."
   ]
  },
  {
   "cell_type": "code",
   "execution_count": 40,
   "metadata": {},
   "outputs": [],
   "source": [
    "#Preparing the data\n",
    "trainX,testX,trainY,testY=train_test_split(final_feed,target,test_size=0.2)"
   ]
  },
  {
   "cell_type": "markdown",
   "metadata": {},
   "source": [
    "# Using Regression Models For Classification"
   ]
  },
  {
   "cell_type": "code",
   "execution_count": 49,
   "metadata": {
    "scrolled": true
   },
   "outputs": [
    {
     "name": "stdout",
     "output_type": "stream",
     "text": [
      "              precision    recall  f1-score   support\n",
      "\n",
      "           0       0.92      0.61      0.73        36\n",
      "           1       0.56      0.90      0.69        20\n",
      "\n",
      "    accuracy                           0.71        56\n",
      "   macro avg       0.74      0.76      0.71        56\n",
      "weighted avg       0.79      0.71      0.72        56\n",
      "\n"
     ]
    }
   ],
   "source": [
    "from sklearn.linear_model import LinearRegression\n",
    "model_LR=LinearRegression()\n",
    "model_LR.fit(trainX,trainY)\n",
    "results=(np.around(model_LR.predict(testX)))\n",
    "results=results.astype(\"int\")\n",
    "from sklearn.metrics import classification_report\n",
    "print(classification_report(results,testY))"
   ]
  },
  {
   "cell_type": "code",
   "execution_count": 50,
   "metadata": {
    "scrolled": false
   },
   "outputs": [
    {
     "name": "stdout",
     "output_type": "stream",
     "text": [
      "              precision    recall  f1-score   support\n",
      "\n",
      "           0       0.88      0.62      0.72        34\n",
      "           1       0.59      0.86      0.70        22\n",
      "\n",
      "    accuracy                           0.71        56\n",
      "   macro avg       0.73      0.74      0.71        56\n",
      "weighted avg       0.76      0.71      0.72        56\n",
      "\n"
     ]
    }
   ],
   "source": [
    "from sklearn.svm import SVR\n",
    "model_SVR=SVR()\n",
    "model_SVR.fit(trainX,trainY)\n",
    "results=(np.around(model_SVR.predict(testX)))\n",
    "results=results.astype(\"int\")\n",
    "print(classification_report(results,testY))"
   ]
  },
  {
   "cell_type": "code",
   "execution_count": 51,
   "metadata": {
    "scrolled": true
   },
   "outputs": [
    {
     "name": "stdout",
     "output_type": "stream",
     "text": [
      "              precision    recall  f1-score   support\n",
      "\n",
      "           0       0.71      0.65      0.68        26\n",
      "           1       0.72      0.77      0.74        30\n",
      "\n",
      "    accuracy                           0.71        56\n",
      "   macro avg       0.71      0.71      0.71        56\n",
      "weighted avg       0.71      0.71      0.71        56\n",
      "\n"
     ]
    }
   ],
   "source": [
    "from sklearn.ensemble import RandomForestRegressor\n",
    "model_forest=RandomForestRegressor()\n",
    "model_forest.fit(trainX,trainY)\n",
    "results=(np.around(model_forest.predict(testX)))\n",
    "results=results.astype(\"int\")\n",
    "print(classification_report(results,testY))"
   ]
  },
  {
   "cell_type": "markdown",
   "metadata": {},
   "source": [
    "# Classification Models"
   ]
  },
  {
   "cell_type": "code",
   "execution_count": 64,
   "metadata": {
    "scrolled": true
   },
   "outputs": [
    {
     "name": "stdout",
     "output_type": "stream",
     "text": [
      "              precision    recall  f1-score   support\n",
      "\n",
      "           0       0.83      0.71      0.77        28\n",
      "           1       0.75      0.86      0.80        28\n",
      "\n",
      "    accuracy                           0.79        56\n",
      "   macro avg       0.79      0.79      0.78        56\n",
      "weighted avg       0.79      0.79      0.78        56\n",
      "\n"
     ]
    }
   ],
   "source": [
    "from sklearn.neighbors import KNeighborsClassifier\n",
    "model_KNN=KNeighborsClassifier()\n",
    "model_KNN.fit(trainX,trainY)\n",
    "results=model_KNN.predict(testX)\n",
    "print(classification_report(results,testY))"
   ]
  },
  {
   "cell_type": "code",
   "execution_count": 65,
   "metadata": {
    "scrolled": false
   },
   "outputs": [
    {
     "name": "stdout",
     "output_type": "stream",
     "text": [
      "              precision    recall  f1-score   support\n",
      "\n",
      "           0       0.75      0.69      0.72        26\n",
      "           1       0.75      0.80      0.77        30\n",
      "\n",
      "    accuracy                           0.75        56\n",
      "   macro avg       0.75      0.75      0.75        56\n",
      "weighted avg       0.75      0.75      0.75        56\n",
      "\n"
     ]
    }
   ],
   "source": [
    "from sklearn.ensemble import RandomForestClassifier\n",
    "model_for=RandomForestClassifier()\n",
    "model_for.fit(trainX,trainY)\n",
    "results=model_for.predict(testX)\n",
    "print(classification_report(results,testY))"
   ]
  },
  {
   "cell_type": "code",
   "execution_count": 66,
   "metadata": {
    "scrolled": true
   },
   "outputs": [
    {
     "name": "stdout",
     "output_type": "stream",
     "text": [
      "              precision    recall  f1-score   support\n",
      "\n",
      "           0       0.83      0.69      0.75        29\n",
      "           1       0.72      0.85      0.78        27\n",
      "\n",
      "    accuracy                           0.77        56\n",
      "   macro avg       0.78      0.77      0.77        56\n",
      "weighted avg       0.78      0.77      0.77        56\n",
      "\n"
     ]
    }
   ],
   "source": [
    "from sklearn.svm import SVC\n",
    "model_svc=SVC(kernel=\"rbf\",C=10)\n",
    "model_svc.fit(trainX,trainY)\n",
    "results=model_svc.predict(testX)\n",
    "print(classification_report(results,testY))"
   ]
  },
  {
   "cell_type": "markdown",
   "metadata": {},
   "source": [
    "### KNN is giving the best results on reduced data.\n",
    "### Let's see if KNN performs equally well on the original data\n",
    "# Classification using KNN and original data."
   ]
  },
  {
   "cell_type": "code",
   "execution_count": 78,
   "metadata": {
    "scrolled": false
   },
   "outputs": [
    {
     "name": "stdout",
     "output_type": "stream",
     "text": [
      "0.7633928571428571\n",
      "              precision    recall  f1-score   support\n",
      "\n",
      "           0       0.78      0.69      0.74        36\n",
      "           1       0.54      0.65      0.59        20\n",
      "\n",
      "    accuracy                           0.68        56\n",
      "   macro avg       0.66      0.67      0.66        56\n",
      "weighted avg       0.70      0.68      0.68        56\n",
      "\n"
     ]
    }
   ],
   "source": [
    "TrainX,TestX,TrainY,TestY=train_test_split(data.iloc[:,:-1],data.iloc[:,-1],test_size=0.2)\n",
    "final_model=KNeighborsClassifier()\n",
    "final_model.fit(TrainX,TrainY)\n",
    "results=final_model.predict(TestX)\n",
    "print(final_model.score(TrainX,TrainY))\n",
    "print(classification_report(results,TestY))\n",
    "#The testing and training accuracy vary 8 points. This is a clear case of overfitting. Model is tainted with high variance\n",
    "# and low bias :)"
   ]
  },
  {
   "cell_type": "code",
   "execution_count": 72,
   "metadata": {},
   "outputs": [],
   "source": [
    "# Point To Note: A model performing well on a particular dataset does not guarantee its success on other datasets. "
   ]
  },
  {
   "cell_type": "code",
   "execution_count": 77,
   "metadata": {},
   "outputs": [
    {
     "data": {
      "text/plain": [
       "0.78125"
      ]
     },
     "execution_count": 77,
     "metadata": {},
     "output_type": "execute_result"
    }
   ],
   "source": []
  },
  {
   "cell_type": "code",
   "execution_count": null,
   "metadata": {},
   "outputs": [],
   "source": []
  }
 ],
 "metadata": {
  "kernelspec": {
   "display_name": "Python 3",
   "language": "python",
   "name": "python3"
  },
  "language_info": {
   "codemirror_mode": {
    "name": "ipython",
    "version": 3
   },
   "file_extension": ".py",
   "mimetype": "text/x-python",
   "name": "python",
   "nbconvert_exporter": "python",
   "pygments_lexer": "ipython3",
   "version": "3.8.3"
  }
 },
 "nbformat": 4,
 "nbformat_minor": 4
}
